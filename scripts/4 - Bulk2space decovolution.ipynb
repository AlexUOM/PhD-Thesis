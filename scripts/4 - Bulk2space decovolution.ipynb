{
 "cells": [
  {
   "cell_type": "markdown",
   "metadata": {},
   "source": [
    "# Deconvolution of bulk RNA-Seq data into single-cell RNA-Seq data.\n",
    "\n",
    "The purpose of this work is to resolve the heterogeneous transcriptome derived from bulk RNA-Seq into single cell RNA-Seq (scRNA-Seq) using a novel deep-learning deconvolution method, namely Bulk2space (Research paper: https://www.nature.com/articles/s41467-022-34271-z python package: https://github.com/ZJUFanLab/bulk2space)\n",
    "\n",
    "Briefly, a β-variational autoencoder is used as a deep generative model to deconvolute the bulk transcriptome. The model is trained on existing scRNA-Seq data from the tissue/organ of interest. Subsequently, the newly deconvoluted dataset is spatially resolved using the a spatial transcritomics dataset as reference.\n",
    "\n",
    "This jupyter notebook cover the analysis step-by-step from bulk RNA-Seq deconvolution to spatially resolved results.\n",
    "\n",
    "**NOTE**: Generation and preprocessing of input files required by Bulk2space is described in detail in the R scripts \"Processing sc_data and meta\" and \"Processing st_data and meta\".\n",
    "\n",
    "### Overview\n",
    "- Setup\n",
    "- Deconvolution\n",
    "- Results: the single cell composition of the mouse heart\n",
    "- Spatial mapping\n",
    "- Results: spatially resolved cardiac cells\n"
   ]
  },
  {
   "cell_type": "markdown",
   "metadata": {},
   "source": [
    "## Setup\n",
    "First, we import all modules needed and initiate the Bulk2space instance."
   ]
  },
  {
   "cell_type": "code",
   "execution_count": null,
   "metadata": {},
   "outputs": [],
   "source": [
    "# Import modules\n",
    "from dataclasses import dataclass\n",
    "from unicodedata import name\n",
    "import scanpy\n",
    "import pandas as pd\n",
    "import numpy as np\n",
    "import matplotlib.colors as clr\n",
    "import matplotlib.pyplot as plt\n",
    "import scipy.stats as pearsonr\n",
    "\n",
    "import bulk2space\n",
    "from bulk2space import Bulk2Space\n",
    "\n",
    "model = Bulk2Space()"
   ]
  },
  {
   "cell_type": "markdown",
   "metadata": {},
   "source": [
    "## Deconvolution\n",
    "To deconvolute bulk RNA-seq, the `.train_vaw_and_generate()` method is used. The parameters used for deconvolution of the control and knockout groups is described in **\"Deconvolution paramenters.txt**\". The Bulk2space requires five formatted datasetes as input:\n",
    "1. Bulk-seq Normalized Data - This is the bulk transcriptome to deconvolute\n",
    "2. scRNA-seq Normalized Data - This is a cell x gene count matrix\n",
    "3. scRNA-seq Annotation Data - This provides cell type information\n",
    "4. Spatial Transcriptomics Normalized Data - This is a cell x gene count matrix of a spatial transcriptome\n",
    "5. Spatial Transcriptomics Coordinates Data - This provides the spatial position of each cell\n",
    "\n",
    "All input files were generated in R as mentioned above. \"Bulk-seq Normalized Data\" was generated as described in the python script \"Bulk transcriptome data cleaning\".\n",
    "\n",
    "Further details of input data format can be found here https://github.com/ZJUFanLab/bulk2space/blob/main/tutorial/handbook.md. "
   ]
  },
  {
   "cell_type": "code",
   "execution_count": null,
   "metadata": {},
   "outputs": [],
   "source": [
    "generate_sc_meta, generate_sc_data = model.train_vae_and_generate(\n",
    "    input_bulk_path=\"Clean_CKO_bulk.csv\", # Bulk transcriptome\n",
    "    input_sc_data_path=\"AC_sc_data.csv\", # scRNA-Seq count matrix\n",
    "    input_sc_meta_path=\"AC_sc_meta.csv\", # scRNA-Seq annotations\n",
    "    input_st_data_path=\"AC_st_data.csv\", # Spatial transcriptomics count matrix\n",
    "    input_st_meta_path=\"AC_st_meta.csv\", # Spatial transcriptomics coordinates\n",
    "    ratio_num=1,\n",
    "    top_marker_num=500,\n",
    "    gpu=0,\n",
    "    batch_size=512,\n",
    "    learning_rate=1e-4,\n",
    "    hidden_size=256,\n",
    "    epoch_num=3500,\n",
    "    vae_save_dir=\"CKO/save model\",\n",
    "    vae_save_name=\"ShortAxis_CKO_vae\",\n",
    "    generate_save_dir=\"CKO/output ShortAxis as st\",\n",
    "    generate_save_name=\"ShortAxis_CKO\",\n",
    ")"
   ]
  },
  {
   "cell_type": "markdown",
   "metadata": {},
   "source": [
    "## Results: the single cell composition of the mouse heart\n",
    "Once the deconvolution is complete we will obtain the scRNA-Seq of the initial bulk transcriptome. The time required to complete the deconvolution is dependent on the GPU used. All analysis and pre-procesing was performed with an Nvidia RTX 3070 Founders Edition. \n",
    "\n",
    "Having an scRNA-Seq dataset, we can look at the cell populations and their distribution. \n",
    "\n",
    "First, we will load the data using the tools provided with Bulk2space."
   ]
  },
  {
   "cell_type": "code",
   "execution_count": null,
   "metadata": {},
   "outputs": [],
   "source": [
    "# load input sc data\n",
    "input_data = bulk2space.utils.load_data(\n",
    "    input_bulk_path='Clean_CKO_bulk.csv',\n",
    "    input_sc_data_path='AC_sc_data.csv',\n",
    "    input_sc_meta_path='AC_sc_meta.csv',\n",
    "    input_st_data_path='transverse_st_data.csv',\n",
    "    input_st_meta_path='transverse_st_meta.csv'\n",
    ")"
   ]
  },
  {
   "cell_type": "code",
   "execution_count": null,
   "metadata": {},
   "outputs": [],
   "source": [
    "# The number of cells per cell type in deconvoluted bulk-seq data\n",
    "ct_stat = pd.DataFrame(generate_sc_meta['Cell_type'].value_counts())\n",
    "ct_name = list(ct_stat.index)\n",
    "ct_num = list(ct_stat['Cell_type'])\n",
    "color = [\"#EF4444\", \"#14B8A6\", '#F97316', \"#7C3AED\", \"#0EA5E9\", '#3B82F6',\n",
    "         '#000000', '#10B981', '#EC4899', \"#7DD3FC\", \"#F472B6\", \"#D946EF\"]\n",
    "plt.bar(ct_name, ct_num, color=color)\n",
    "plt.xticks(ct_name, ct_name, rotation=90)\n",
    "plt.title(\"The number of cells per cell type in bulk-seq data\")\n",
    "plt.xlabel(\"Cell type\")\n",
    "plt.ylabel(\"Cell number\")\n",
    "plt.show()"
   ]
  },
  {
   "cell_type": "markdown",
   "metadata": {},
   "source": [
    "We can then determine the correlation in the expression of marker genes between the reference scRNA-seq data and the generated scRNA-seq data. This way we can understand if computationally generated cells are a truthful representation of real ones."
   ]
  },
  {
   "cell_type": "code",
   "execution_count": null,
   "metadata": {},
   "outputs": [],
   "source": [
    "# Calculate 200 marker genes of each cell type\n",
    "sc = scanpy.AnnData(input_data['input_sc_data'].T)\n",
    "sc.obs = input_data['input_sc_meta'][['Cell_type']]\n",
    "scanpy.tl.rank_genes_groups(sc, 'Cell_type', method='wilcoxon')\n",
    "marker_df = pd.DataFrame(sc.uns['rank_genes_groups']['names']).head(200)\n",
    "marker = list(np.unique(np.ravel(np.array(marker_df))))\n",
    "\n",
    "# Calculate the mean expression of 200 marker genes of real cells\n",
    "sc_marker = input_data['input_sc_data'].loc[marker, :].T\n",
    "sc_marker['Cell_type'] = input_data['input_sc_meta']['Cell_type']\n",
    "sc_marker_mean = sc_marker.groupby('Cell_type')[marker].mean()\n",
    "\n",
    "# Calculate the mean expression of 200 marker genes of deconvoluted cells\n",
    "generate_sc_meta.index = list(generate_sc_meta['Cell'])\n",
    "generate_sc_data_new = generate_sc_data.T\n",
    "new_header = generate_sc_data_new.iloc[0]\n",
    "generate_sc_data_new = generate_sc_data_new[1:]\n",
    "generate_sc_data_new.columns = new_header\n",
    "generate_sc_data_new['Cell_type'] = generate_sc_meta['Cell_type']\n",
    "\n",
    "generate_sc_marker_mean = generate_sc_data_new.groupby('Cell_type')[\n",
    "    marker].mean()\n",
    "\n",
    "# Keep mutual marker genes\n",
    "intersect_cell = list(set(sc_marker_mean.index).intersection(\n",
    "    set(generate_sc_marker_mean.index)))\n",
    "generate_sc_marker_mean = generate_sc_marker_mean.loc[intersect_cell]\n",
    "sc_marker_mean = sc_marker_mean.loc[intersect_cell]\n",
    "\n",
    "# Calculate correlation\n",
    "sc_marker_mean = sc_marker_mean.T\n",
    "generate_sc_marker_mean = generate_sc_marker_mean.T\n",
    "coeffmat = np.zeros(\n",
    "    (sc_marker_mean.shape[1], generate_sc_marker_mean.shape[1]))\n",
    "for i in range(sc_marker_mean.shape[1]):\n",
    "    for j in range(generate_sc_marker_mean.shape[1]):\n",
    "        corrtest = pearsonr.pearsonr(sc_marker_mean[sc_marker_mean.columns[i]],\n",
    "                                     generate_sc_marker_mean[generate_sc_marker_mean.columns[j]])\n",
    "        coeffmat[i, j] = corrtest[0]\n",
    "\n",
    "rf_ct = list(sc_marker_mean.columns)\n",
    "generate_ct = list(generate_sc_marker_mean.columns)\n",
    "\n"
   ]
  },
  {
   "cell_type": "markdown",
   "metadata": {},
   "source": [
    "Plot the correlation:"
   ]
  },
  {
   "cell_type": "code",
   "execution_count": null,
   "metadata": {},
   "outputs": [],
   "source": [
    "# Plot the results as a heatmap\n",
    "fig, ax = plt.subplots()\n",
    "im = ax.imshow(coeffmat, cmap='RdBu_r')\n",
    "ax.set_xticks(np.arange(len(rf_ct)))\n",
    "ax.set_xticklabels(rf_ct)\n",
    "ax.set_yticks(np.arange(len(generate_ct)))\n",
    "ax.set_yticklabels(generate_ct)\n",
    "plt.xlabel(\"scRNA-seq reference\")\n",
    "plt.ylabel(\"deconvoluted bulk-seq\")\n",
    "plt.setp(ax.get_xticklabels(), rotation=90, ha=\"right\", rotation_mode=\"anchor\")\n",
    "plt.colorbar(im)\n",
    "ax.set_title(\"Expression correlation\")\n",
    "fig.tight_layout()\n",
    "plt.show()"
   ]
  },
  {
   "cell_type": "markdown",
   "metadata": {},
   "source": [
    "We can see that the \"artificially\" generated cells are biologically close to their real counterpart. This shows that:\n",
    "1. The deconvolution algorithm can generate biologically feasible cells.\n",
    "2. It is possible to draw biological conclusions by analysing cells generated with A.I.\n",
    "\n",
    "For more extensive model validation please refer to the author's original paper of Bulk2space (https://www.nature.com/articles/s41467-022-34271-z)."
   ]
  },
  {
   "cell_type": "code",
   "execution_count": null,
   "metadata": {},
   "outputs": [],
   "source": []
  },
  {
   "cell_type": "markdown",
   "metadata": {},
   "source": [
    "## Spatial mapping\n",
    "Next, we can employ Bulk2space to map the newly resolved scRNA-Seq dataset onto a tissue section. This way we can add spatial information to gene expression. Briefly, each cell is mapped to a specific location within the tissue based on its genetic signature.\n",
    "\n",
    "We will use the `.train_df_and_spatial_deconvolution()` method of Bulk2space. Parameters used are described in \"Deconvolution parameters.txt\"."
   ]
  },
  {
   "cell_type": "code",
   "execution_count": null,
   "metadata": {},
   "outputs": [],
   "source": [
    "if __name__ == \"__main__\": # Remove this line if running on UNIX\n",
    "    df_meta, df_data = model.train_df_and_spatial_deconvolution(\n",
    "        generate_sc_meta,\n",
    "        generate_sc_data,\n",
    "        input_st_data_path=\"transverse_st_data.csv\",\n",
    "        input_st_meta_path=\"transverse_st_meta.csv\",\n",
    "        spot_num=200,\n",
    "        cell_num=5,\n",
    "        df_save_dir=\"CKO/save_model/\",\n",
    "        df_save_name=\"ShortAxis_CKO_df\",\n",
    "        map_save_dir=\"CKO/result_ShortAxis\",\n",
    "        map_save_name=\"ShortAxis_CKO_map\",\n",
    "        top_marker_num=500,\n",
    "        marker_used=True,\n",
    "        k=10\n",
    "    )"
   ]
  },
  {
   "cell_type": "markdown",
   "metadata": {},
   "source": [
    "## Results: spatially resolved cardiac cells\n",
    "Once the spatial mapping is complete we will be able to evaluate where individual cells of the heart are located. \n",
    "\n",
    "Unlike conventional methods of spatial transcriptomics, Bulk2space allows to visualise the cells at single-cell resolution."
   ]
  },
  {
   "cell_type": "code",
   "execution_count": null,
   "metadata": {},
   "outputs": [],
   "source": [
    "# Spatial mapping with single cell resolution\n",
    "ct_type = list(df_meta[\"Cell_type\"].unique())\n",
    "color = [\n",
    "    \"#000000\",\n",
    "    \"#EF4444\",\n",
    "    \"#7C3AED\",\n",
    "    \"#3B82F6\",\n",
    "    \"#14B8A6\",\n",
    "    \"#0EA5E9\",\n",
    "    \"#F97316\",\n",
    "    \"#7C3AED\",\n",
    "]\n",
    "\n",
    "fig, ax = plt.subplots(figsize=(8, 8))\n",
    "for i in range(len(ct_type)):\n",
    "    ax.scatter(\n",
    "        df_meta.loc[df_meta.Cell_type == ct_type[i], \"Cell_xcoord\"],\n",
    "        df_meta.loc[df_meta.Cell_type == ct_type[i], \"Cell_ycoord\"],\n",
    "        color=color[i],\n",
    "        label=ct_type[i],\n",
    "        s=12,\n",
    "    )\n",
    "plt.title(\"Spatial mapping with single cell resolution\")\n",
    "plt.xlabel(\"Cell_xcoord\")\n",
    "plt.ylabel(\"Cell_ycoord\")\n",
    "plt.legend(bbox_to_anchor=(1, 0.2), loc=3,\n",
    "           borderaxespad=0, frameon=False, fontsize=15)\n",
    "plt.show()"
   ]
  },
  {
   "cell_type": "markdown",
   "metadata": {},
   "source": [
    "With spatial information added, it is possible to examine the spatial expression patterns of marker genes. Their expression is expected to be consisted with the location of the cells they are found into.\n",
    "\n",
    "Alternatively, one can assess the spatial expression of any other gene of interest and infere whether pathological genes are expressed in specific areas of the heart."
   ]
  },
  {
   "cell_type": "code",
   "execution_count": null,
   "metadata": {},
   "outputs": [],
   "source": [
    "# Gene expression at single cell resolution\n",
    "plot = df_meta\n",
    "plot.index = list(plot[\"Cell\"])\n",
    "\n",
    "# Each gene is a marker gene of a cardiac cell\n",
    "gene = [\"Tnni3\", \"Vim\", \"Emcn\", \"Acta2\"]\n",
    "plot[gene] = df_data.T[gene]\n",
    "xcoord = np.array(plot[\"Cell_xcoord\"])\n",
    "ycoord = np.array(plot[\"Cell_ycoord\"])\n",
    "gene1 = np.array(plot[\"Tnni3\"]) # Cardiomyocyte marker\n",
    "gene2 = np.array(plot[\"Vim\"]) # Fibroblast marker\n",
    "gene3 = np.array(plot[\"Emcn\"]) # Endocardial marker\n",
    "gene4 = np.array(plot[\"Acta2\"]) # Smooth muscle cell marker\n",
    "\n",
    "fig, axs = plt.subplots(1, 4, figsize=(12, 3))\n",
    "\n",
    "a = axs[0].scatter(xcoord, ycoord, s=0.5, cmap=\"viridis\", c=gene1)\n",
    "fig.colorbar(a, ax=axs[0])\n",
    "axs[0].set_title(\"Tnni3\") \n",
    "\n",
    "b = axs[1].scatter(xcoord, ycoord, s=0.5, cmap=\"viridis\", c=gene2)\n",
    "fig.colorbar(b, ax=axs[1])\n",
    "axs[1].set_title(\"Vim\")\n",
    "\n",
    "c = axs[2].scatter(xcoord, ycoord, s=0.5, cmap=\"viridis\", c=gene3)\n",
    "fig.colorbar(c, ax=axs[2])\n",
    "axs[2].set_title(\"Hdac4\")\n",
    "\n",
    "d = axs[3].scatter(xcoord, ycoord, s=0.5, cmap=\"viridis\", c=gene4)\n",
    "fig.colorbar(d, ax=axs[3])\n",
    "axs[3].set_title(\"Emcn\")\n",
    "\n",
    "plt.tight_layout()\n",
    "plt.show()"
   ]
  },
  {
   "cell_type": "markdown",
   "metadata": {},
   "source": [
    "It may be more readable to plot the spatial decovnolution results at spot-level resolution. To do so, we calculate the cell type proportion for each spot and then we aggregate the gene expression of cells per spot."
   ]
  },
  {
   "cell_type": "code",
   "execution_count": null,
   "metadata": {},
   "outputs": [],
   "source": [
    "# Spot-level resolution\n",
    "# Calculate cell type proportion per spot\n",
    "prop = df_meta[[\"Cell\", \"Cell_type\", \"Spot\"]].pivot_table(\n",
    "    index=[\"Spot\"], columns=[\"Cell_type\"], aggfunc=\"count\", values=\"Cell\", fill_value=0\n",
    ")\n",
    "prop = prop.div(prop.sum(axis=1), axis=0)\n",
    "prop.columns = pd.Index(list(prop.columns))\n",
    "prop[\"Spot_xcoord\"] = np.array(\n",
    "    df_meta.pivot_table(index=[\"Spot\"])[\"Spot_xcoord\"])\n",
    "prop[\"Spot_ycoord\"] = np.array(\n",
    "    df_meta.pivot_table(index=[\"Spot\"])[\"Spot_ycoord\"])\n",
    "\n",
    "# Aggregate gene expression per spot\n",
    "pred_spot_new = df_data.T\n",
    "genes = pred_spot_new.columns\n",
    "pred_spot_new[\"Spot\"] = df_meta[\"Spot\"]\n",
    "pred_spot_mean = pred_spot_new.groupby(\"Spot\")[genes].mean()"
   ]
  },
  {
   "cell_type": "markdown",
   "metadata": {},
   "source": [
    "Then we plot the results"
   ]
  },
  {
   "cell_type": "code",
   "execution_count": null,
   "metadata": {},
   "outputs": [],
   "source": [
    "# Plot the results of cell type proportions\n",
    "spot_x = np.array(prop[\"Spot_xcoord\"])\n",
    "spot_y = np.array(prop[\"Spot_ycoord\"])\n",
    "cell1 = np.array(prop[\"ventricular cardiomyocyte\"])\n",
    "cell2 = np.array(prop[\"fibroblast of cardiac tissue\"])\n",
    "cell3 = np.array(prop[\"endothelial cell of endocardium\"])\n",
    "cell4 = np.array(prop[\"smooth muscle cell\"])\n",
    "\n",
    "fig, axs = plt.subplots(1, 4, figsize=(12, 3))\n",
    "\n",
    "a = axs[0].scatter(spot_x, spot_y, s=5, cmap=\"viridis\", c=cell1)\n",
    "fig.colorbar(a, ax=axs[0])\n",
    "axs[0].set_title(\"ventricular cardiomyocyte\")\n",
    "\n",
    "b = axs[1].scatter(spot_x, spot_y, s=5, cmap=\"viridis\", c=cell2)\n",
    "fig.colorbar(b, ax=axs[1])\n",
    "axs[1].set_title(\"fibroblast of cardiac tissue\")\n",
    "\n",
    "d = axs[2].scatter(spot_x, spot_y, s=5, cmap=\"viridis\", c=cell3)\n",
    "fig.colorbar(d, ax=axs[2])\n",
    "axs[2].set_title(\"endothelial cell of endocardium\")\n",
    "\n",
    "e = axs[3].scatter(spot_x, spot_y, s=5, cmap=\"viridis\", c=cell4)\n",
    "fig.colorbar(e, ax=axs[3])\n",
    "axs[3].set_title(\"smooth muscle cell\")\n",
    "\n",
    "plt.tight_layout()\n",
    "plt.show()"
   ]
  },
  {
   "cell_type": "code",
   "execution_count": null,
   "metadata": {},
   "outputs": [],
   "source": [
    "# Plot gene expression proportion\n",
    "spot_x = np.array(prop[\"Spot_xcoord\"])\n",
    "spot_y = np.array(prop[\"Spot_ycoord\"])\n",
    "g1 = np.array(pred_spot_mean[\"Tnni3\"])\n",
    "g2 = np.array(pred_spot_mean[\"Vim\"])\n",
    "g3 = np.array(pred_spot_mean[\"Emcn\"])\n",
    "g4 = np.array(pred_spot_mean[\"Acta2\"])\n",
    "\n",
    "fig, axs = plt.subplots(1, 4, figsize=(12, 3))\n",
    "\n",
    "a = axs[0].scatter(spot_x, spot_y, s=5, cmap=\"viridis\", c=g1)\n",
    "fig.colorbar(a, ax=axs[0])\n",
    "axs[0].set_title(\"Tnni3\")\n",
    "\n",
    "b = axs[1].scatter(spot_x, spot_y, s=5, cmap=\"viridis\", c=g2)\n",
    "fig.colorbar(b, ax=axs[1])\n",
    "axs[1].set_title(\"Vim\")\n",
    "\n",
    "d = axs[2].scatter(spot_x, spot_y, s=5, cmap=\"viridis\", c=g3)\n",
    "fig.colorbar(d, ax=axs[2])\n",
    "axs[2].set_title(\"Emcn\")\n",
    "\n",
    "e = axs[3].scatter(spot_x, spot_y, s=5, cmap=\"viridis\", c=g4)\n",
    "fig.colorbar(e, ax=axs[3])\n",
    "axs[3].set_title(\"Acta2\")\n",
    "\n",
    "plt.tight_layout()\n",
    "plt.show()"
   ]
  },
  {
   "cell_type": "markdown",
   "metadata": {},
   "source": [
    "As expected, each cell marker co-localises with the key cell expressing it."
   ]
  }
 ],
 "metadata": {
  "language_info": {
   "name": "python"
  }
 },
 "nbformat": 4,
 "nbformat_minor": 2
}
